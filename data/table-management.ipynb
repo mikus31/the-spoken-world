{
 "cells": [
  {
   "cell_type": "markdown",
   "metadata": {},
   "source": [
    "# The Spoken World Table Management\n",
    "\n",
    "The purpose of this notebook is to create a new, customized dataframe from an existing dataset and export as a GeoJSON.\n",
    "\n",
    "Michael McNeil | 2019-04-24"
   ]
  },
  {
   "cell_type": "markdown",
   "metadata": {},
   "source": [
    "## Imports"
   ]
  },
  {
   "cell_type": "code",
   "execution_count": 12,
   "metadata": {},
   "outputs": [],
   "source": [
    "import pandas as pd\n",
    "import geopandas as gpd\n",
    "import fiona\n",
    "import os"
   ]
  },
  {
   "cell_type": "markdown",
   "metadata": {},
   "source": [
    "## Variables"
   ]
  },
  {
   "cell_type": "code",
   "execution_count": 24,
   "metadata": {},
   "outputs": [],
   "source": [
    "df = gpd.read_file(r'G:\\SCHOOL\\KENTUCKY\\MAP698\\the-spoken-world\\data\\raw\\places.geojson')"
   ]
  },
  {
   "cell_type": "code",
   "execution_count": 25,
   "metadata": {},
   "outputs": [
    {
     "data": {
      "text/html": [
       "<div>\n",
       "<style scoped>\n",
       "    .dataframe tbody tr th:only-of-type {\n",
       "        vertical-align: middle;\n",
       "    }\n",
       "\n",
       "    .dataframe tbody tr th {\n",
       "        vertical-align: top;\n",
       "    }\n",
       "\n",
       "    .dataframe thead th {\n",
       "        text-align: right;\n",
       "    }\n",
       "</style>\n",
       "<table border=\"1\" class=\"dataframe\">\n",
       "  <thead>\n",
       "    <tr style=\"text-align: right;\">\n",
       "      <th></th>\n",
       "      <th>scalerank</th>\n",
       "      <th>natscale</th>\n",
       "      <th>labelrank</th>\n",
       "      <th>featurecla</th>\n",
       "      <th>name</th>\n",
       "      <th>namepar</th>\n",
       "      <th>namealt</th>\n",
       "      <th>diffascii</th>\n",
       "      <th>nameascii</th>\n",
       "      <th>adm0cap</th>\n",
       "      <th>...</th>\n",
       "      <th>rank_max</th>\n",
       "      <th>rank_min</th>\n",
       "      <th>geonameid</th>\n",
       "      <th>meganame</th>\n",
       "      <th>ls_name</th>\n",
       "      <th>ls_match</th>\n",
       "      <th>checkme</th>\n",
       "      <th>min_zoom</th>\n",
       "      <th>ne_id</th>\n",
       "      <th>geometry</th>\n",
       "    </tr>\n",
       "  </thead>\n",
       "  <tbody>\n",
       "    <tr>\n",
       "      <th>0</th>\n",
       "      <td>10</td>\n",
       "      <td>1</td>\n",
       "      <td>8</td>\n",
       "      <td>Admin-1 capital</td>\n",
       "      <td>Colonia del Sacramento</td>\n",
       "      <td>None</td>\n",
       "      <td>None</td>\n",
       "      <td>0</td>\n",
       "      <td>Colonia del Sacramento</td>\n",
       "      <td>0.0</td>\n",
       "      <td>...</td>\n",
       "      <td>7</td>\n",
       "      <td>7</td>\n",
       "      <td>3443013.0</td>\n",
       "      <td>None</td>\n",
       "      <td>None</td>\n",
       "      <td>0</td>\n",
       "      <td>0</td>\n",
       "      <td>9.0</td>\n",
       "      <td>1159112629</td>\n",
       "      <td>POINT (-57.84000247340134 -34.47999900541754)</td>\n",
       "    </tr>\n",
       "    <tr>\n",
       "      <th>1</th>\n",
       "      <td>10</td>\n",
       "      <td>1</td>\n",
       "      <td>8</td>\n",
       "      <td>Admin-1 capital</td>\n",
       "      <td>Trinidad</td>\n",
       "      <td>None</td>\n",
       "      <td>None</td>\n",
       "      <td>0</td>\n",
       "      <td>Trinidad</td>\n",
       "      <td>0.0</td>\n",
       "      <td>...</td>\n",
       "      <td>7</td>\n",
       "      <td>7</td>\n",
       "      <td>3439749.0</td>\n",
       "      <td>None</td>\n",
       "      <td>None</td>\n",
       "      <td>0</td>\n",
       "      <td>0</td>\n",
       "      <td>9.0</td>\n",
       "      <td>1159112647</td>\n",
       "      <td>POINT (-56.90099656015872 -33.5439989373607)</td>\n",
       "    </tr>\n",
       "    <tr>\n",
       "      <th>2</th>\n",
       "      <td>10</td>\n",
       "      <td>1</td>\n",
       "      <td>8</td>\n",
       "      <td>Admin-1 capital</td>\n",
       "      <td>Fray Bentos</td>\n",
       "      <td>None</td>\n",
       "      <td>None</td>\n",
       "      <td>0</td>\n",
       "      <td>Fray Bentos</td>\n",
       "      <td>0.0</td>\n",
       "      <td>...</td>\n",
       "      <td>7</td>\n",
       "      <td>7</td>\n",
       "      <td>3442568.0</td>\n",
       "      <td>None</td>\n",
       "      <td>None</td>\n",
       "      <td>0</td>\n",
       "      <td>0</td>\n",
       "      <td>9.0</td>\n",
       "      <td>1159112663</td>\n",
       "      <td>POINT (-58.3039974719095 -33.1389990288435)</td>\n",
       "    </tr>\n",
       "    <tr>\n",
       "      <th>3</th>\n",
       "      <td>10</td>\n",
       "      <td>1</td>\n",
       "      <td>8</td>\n",
       "      <td>Admin-1 capital</td>\n",
       "      <td>Canelones</td>\n",
       "      <td>None</td>\n",
       "      <td>None</td>\n",
       "      <td>0</td>\n",
       "      <td>Canelones</td>\n",
       "      <td>0.0</td>\n",
       "      <td>...</td>\n",
       "      <td>6</td>\n",
       "      <td>6</td>\n",
       "      <td>3443413.0</td>\n",
       "      <td>None</td>\n",
       "      <td>None</td>\n",
       "      <td>0</td>\n",
       "      <td>0</td>\n",
       "      <td>9.0</td>\n",
       "      <td>1159112679</td>\n",
       "      <td>POINT (-56.28400149324307 -34.53800400667546)</td>\n",
       "    </tr>\n",
       "    <tr>\n",
       "      <th>4</th>\n",
       "      <td>10</td>\n",
       "      <td>1</td>\n",
       "      <td>8</td>\n",
       "      <td>Admin-1 capital</td>\n",
       "      <td>Florida</td>\n",
       "      <td>None</td>\n",
       "      <td>None</td>\n",
       "      <td>0</td>\n",
       "      <td>Florida</td>\n",
       "      <td>0.0</td>\n",
       "      <td>...</td>\n",
       "      <td>7</td>\n",
       "      <td>7</td>\n",
       "      <td>3442585.0</td>\n",
       "      <td>None</td>\n",
       "      <td>None</td>\n",
       "      <td>0</td>\n",
       "      <td>0</td>\n",
       "      <td>7.0</td>\n",
       "      <td>1159112703</td>\n",
       "      <td>POINT (-56.21499844799416 -34.09900200521719)</td>\n",
       "    </tr>\n",
       "  </tbody>\n",
       "</table>\n",
       "<p>5 rows × 39 columns</p>\n",
       "</div>"
      ],
      "text/plain": [
       "   scalerank  natscale  labelrank       featurecla                    name  \\\n",
       "0         10         1          8  Admin-1 capital  Colonia del Sacramento   \n",
       "1         10         1          8  Admin-1 capital                Trinidad   \n",
       "2         10         1          8  Admin-1 capital             Fray Bentos   \n",
       "3         10         1          8  Admin-1 capital               Canelones   \n",
       "4         10         1          8  Admin-1 capital                 Florida   \n",
       "\n",
       "  namepar namealt  diffascii               nameascii  adm0cap  ...  rank_max  \\\n",
       "0    None    None          0  Colonia del Sacramento      0.0  ...         7   \n",
       "1    None    None          0                Trinidad      0.0  ...         7   \n",
       "2    None    None          0             Fray Bentos      0.0  ...         7   \n",
       "3    None    None          0               Canelones      0.0  ...         6   \n",
       "4    None    None          0                 Florida      0.0  ...         7   \n",
       "\n",
       "  rank_min  geonameid  meganame ls_name ls_match checkme min_zoom       ne_id  \\\n",
       "0        7  3443013.0      None    None        0       0      9.0  1159112629   \n",
       "1        7  3439749.0      None    None        0       0      9.0  1159112647   \n",
       "2        7  3442568.0      None    None        0       0      9.0  1159112663   \n",
       "3        6  3443413.0      None    None        0       0      9.0  1159112679   \n",
       "4        7  3442585.0      None    None        0       0      7.0  1159112703   \n",
       "\n",
       "                                        geometry  \n",
       "0  POINT (-57.84000247340134 -34.47999900541754)  \n",
       "1   POINT (-56.90099656015872 -33.5439989373607)  \n",
       "2    POINT (-58.3039974719095 -33.1389990288435)  \n",
       "3  POINT (-56.28400149324307 -34.53800400667546)  \n",
       "4  POINT (-56.21499844799416 -34.09900200521719)  \n",
       "\n",
       "[5 rows x 39 columns]"
      ]
     },
     "execution_count": 25,
     "metadata": {},
     "output_type": "execute_result"
    }
   ],
   "source": [
    "df.head()"
   ]
  },
  {
   "cell_type": "markdown",
   "metadata": {},
   "source": [
    "#### How many column headers are in the df?"
   ]
  },
  {
   "cell_type": "code",
   "execution_count": 15,
   "metadata": {},
   "outputs": [
    {
     "data": {
      "text/plain": [
       "['scalerank',\n",
       " 'natscale',\n",
       " 'labelrank',\n",
       " 'featurecla',\n",
       " 'name',\n",
       " 'namepar',\n",
       " 'namealt',\n",
       " 'diffascii',\n",
       " 'nameascii',\n",
       " 'adm0cap',\n",
       " 'capalt',\n",
       " 'capin',\n",
       " 'worldcity',\n",
       " 'megacity',\n",
       " 'sov0name',\n",
       " 'sov_a3',\n",
       " 'adm0name',\n",
       " 'adm0_a3',\n",
       " 'adm1name',\n",
       " 'iso_a2',\n",
       " 'note',\n",
       " 'latitude',\n",
       " 'longitude',\n",
       " 'changed',\n",
       " 'namediff',\n",
       " 'diffnote',\n",
       " 'pop_max',\n",
       " 'pop_min',\n",
       " 'pop_other',\n",
       " 'rank_max',\n",
       " 'rank_min',\n",
       " 'geonameid',\n",
       " 'meganame',\n",
       " 'ls_name',\n",
       " 'ls_match',\n",
       " 'checkme',\n",
       " 'min_zoom',\n",
       " 'ne_id',\n",
       " 'geometry']"
      ]
     },
     "execution_count": 15,
     "metadata": {},
     "output_type": "execute_result"
    }
   ],
   "source": [
    "list(df)"
   ]
  },
  {
   "cell_type": "markdown",
   "metadata": {},
   "source": [
    "## Manipulate Tables"
   ]
  },
  {
   "cell_type": "markdown",
   "metadata": {},
   "source": [
    "#### Remove unnecessary fields for the purpose of this assignment"
   ]
  },
  {
   "cell_type": "code",
   "execution_count": 16,
   "metadata": {},
   "outputs": [],
   "source": [
    "# remember to include geometry!\n",
    "df = df.filter(items=['name', 'nameascii', 'adm0name', 'latitude', 'longitude', 'pop_max', 'geonameid', 'ne_id', 'geometry'])"
   ]
  },
  {
   "cell_type": "code",
   "execution_count": 17,
   "metadata": {},
   "outputs": [
    {
     "data": {
      "text/html": [
       "<div>\n",
       "<style scoped>\n",
       "    .dataframe tbody tr th:only-of-type {\n",
       "        vertical-align: middle;\n",
       "    }\n",
       "\n",
       "    .dataframe tbody tr th {\n",
       "        vertical-align: top;\n",
       "    }\n",
       "\n",
       "    .dataframe thead th {\n",
       "        text-align: right;\n",
       "    }\n",
       "</style>\n",
       "<table border=\"1\" class=\"dataframe\">\n",
       "  <thead>\n",
       "    <tr style=\"text-align: right;\">\n",
       "      <th></th>\n",
       "      <th>name</th>\n",
       "      <th>nameascii</th>\n",
       "      <th>adm0name</th>\n",
       "      <th>latitude</th>\n",
       "      <th>longitude</th>\n",
       "      <th>pop_max</th>\n",
       "      <th>geonameid</th>\n",
       "      <th>ne_id</th>\n",
       "      <th>geometry</th>\n",
       "    </tr>\n",
       "  </thead>\n",
       "  <tbody>\n",
       "    <tr>\n",
       "      <th>0</th>\n",
       "      <td>Colonia del Sacramento</td>\n",
       "      <td>Colonia del Sacramento</td>\n",
       "      <td>Uruguay</td>\n",
       "      <td>-34.479999</td>\n",
       "      <td>-57.840002</td>\n",
       "      <td>21714</td>\n",
       "      <td>3443013.0</td>\n",
       "      <td>1159112629</td>\n",
       "      <td>POINT (-57.84000247340134 -34.47999900541754)</td>\n",
       "    </tr>\n",
       "    <tr>\n",
       "      <th>1</th>\n",
       "      <td>Trinidad</td>\n",
       "      <td>Trinidad</td>\n",
       "      <td>Uruguay</td>\n",
       "      <td>-33.543999</td>\n",
       "      <td>-56.900997</td>\n",
       "      <td>21093</td>\n",
       "      <td>3439749.0</td>\n",
       "      <td>1159112647</td>\n",
       "      <td>POINT (-56.90099656015872 -33.5439989373607)</td>\n",
       "    </tr>\n",
       "    <tr>\n",
       "      <th>2</th>\n",
       "      <td>Fray Bentos</td>\n",
       "      <td>Fray Bentos</td>\n",
       "      <td>Uruguay</td>\n",
       "      <td>-33.138999</td>\n",
       "      <td>-58.303997</td>\n",
       "      <td>23279</td>\n",
       "      <td>3442568.0</td>\n",
       "      <td>1159112663</td>\n",
       "      <td>POINT (-58.3039974719095 -33.1389990288435)</td>\n",
       "    </tr>\n",
       "    <tr>\n",
       "      <th>3</th>\n",
       "      <td>Canelones</td>\n",
       "      <td>Canelones</td>\n",
       "      <td>Uruguay</td>\n",
       "      <td>-34.538004</td>\n",
       "      <td>-56.284001</td>\n",
       "      <td>19698</td>\n",
       "      <td>3443413.0</td>\n",
       "      <td>1159112679</td>\n",
       "      <td>POINT (-56.28400149324307 -34.53800400667546)</td>\n",
       "    </tr>\n",
       "    <tr>\n",
       "      <th>4</th>\n",
       "      <td>Florida</td>\n",
       "      <td>Florida</td>\n",
       "      <td>Uruguay</td>\n",
       "      <td>-34.099002</td>\n",
       "      <td>-56.214998</td>\n",
       "      <td>32234</td>\n",
       "      <td>3442585.0</td>\n",
       "      <td>1159112703</td>\n",
       "      <td>POINT (-56.21499844799416 -34.09900200521719)</td>\n",
       "    </tr>\n",
       "  </tbody>\n",
       "</table>\n",
       "</div>"
      ],
      "text/plain": [
       "                     name               nameascii adm0name   latitude  \\\n",
       "0  Colonia del Sacramento  Colonia del Sacramento  Uruguay -34.479999   \n",
       "1                Trinidad                Trinidad  Uruguay -33.543999   \n",
       "2             Fray Bentos             Fray Bentos  Uruguay -33.138999   \n",
       "3               Canelones               Canelones  Uruguay -34.538004   \n",
       "4                 Florida                 Florida  Uruguay -34.099002   \n",
       "\n",
       "   longitude  pop_max  geonameid       ne_id  \\\n",
       "0 -57.840002    21714  3443013.0  1159112629   \n",
       "1 -56.900997    21093  3439749.0  1159112647   \n",
       "2 -58.303997    23279  3442568.0  1159112663   \n",
       "3 -56.284001    19698  3443413.0  1159112679   \n",
       "4 -56.214998    32234  3442585.0  1159112703   \n",
       "\n",
       "                                        geometry  \n",
       "0  POINT (-57.84000247340134 -34.47999900541754)  \n",
       "1   POINT (-56.90099656015872 -33.5439989373607)  \n",
       "2    POINT (-58.3039974719095 -33.1389990288435)  \n",
       "3  POINT (-56.28400149324307 -34.53800400667546)  \n",
       "4  POINT (-56.21499844799416 -34.09900200521719)  "
      ]
     },
     "execution_count": 17,
     "metadata": {},
     "output_type": "execute_result"
    }
   ],
   "source": [
    "df.head()"
   ]
  },
  {
   "cell_type": "code",
   "execution_count": 18,
   "metadata": {},
   "outputs": [
    {
     "name": "stdout",
     "output_type": "stream",
     "text": [
      "<class 'geopandas.geodataframe.GeoDataFrame'>\n",
      "RangeIndex: 7343 entries, 0 to 7342\n",
      "Data columns (total 9 columns):\n",
      "name         7343 non-null object\n",
      "nameascii    7343 non-null object\n",
      "adm0name     7343 non-null object\n",
      "latitude     7343 non-null float64\n",
      "longitude    7343 non-null float64\n",
      "pop_max      7343 non-null int64\n",
      "geonameid    7343 non-null float64\n",
      "ne_id        7343 non-null int64\n",
      "geometry     7343 non-null object\n",
      "dtypes: float64(3), int64(2), object(4)\n",
      "memory usage: 516.4+ KB\n"
     ]
    }
   ],
   "source": [
    "df.info()"
   ]
  },
  {
   "cell_type": "markdown",
   "metadata": {},
   "source": [
    "#### Remove Antarctica places for simplicity"
   ]
  },
  {
   "cell_type": "code",
   "execution_count": 19,
   "metadata": {},
   "outputs": [],
   "source": [
    "df_less_antarctica = df.loc[df['adm0name']!='Antarctica']"
   ]
  },
  {
   "cell_type": "markdown",
   "metadata": {},
   "source": [
    "#### Check to see if there are less features in the df now"
   ]
  },
  {
   "cell_type": "code",
   "execution_count": 20,
   "metadata": {},
   "outputs": [
    {
     "name": "stdout",
     "output_type": "stream",
     "text": [
      "<class 'geopandas.geodataframe.GeoDataFrame'>\n",
      "Int64Index: 7303 entries, 0 to 7342\n",
      "Data columns (total 9 columns):\n",
      "name         7303 non-null object\n",
      "nameascii    7303 non-null object\n",
      "adm0name     7303 non-null object\n",
      "latitude     7303 non-null float64\n",
      "longitude    7303 non-null float64\n",
      "pop_max      7303 non-null int64\n",
      "geonameid    7303 non-null float64\n",
      "ne_id        7303 non-null int64\n",
      "geometry     7303 non-null object\n",
      "dtypes: float64(3), int64(2), object(4)\n",
      "memory usage: 570.5+ KB\n"
     ]
    }
   ],
   "source": [
    "df_less_antarctica.info()"
   ]
  },
  {
   "cell_type": "markdown",
   "metadata": {},
   "source": [
    "## Export"
   ]
  },
  {
   "cell_type": "markdown",
   "metadata": {},
   "source": [
    "#### First need to find out how the data can be exported via fiona ..."
   ]
  },
  {
   "cell_type": "code",
   "execution_count": 21,
   "metadata": {},
   "outputs": [
    {
     "data": {
      "text/plain": [
       "{'AeronavFAA': 'r',\n",
       " 'ARCGEN': 'r',\n",
       " 'BNA': 'raw',\n",
       " 'DXF': 'raw',\n",
       " 'CSV': 'raw',\n",
       " 'OpenFileGDB': 'r',\n",
       " 'ESRIJSON': 'r',\n",
       " 'ESRI Shapefile': 'raw',\n",
       " 'GeoJSON': 'rw',\n",
       " 'GeoJSONSeq': 'rw',\n",
       " 'GPKG': 'rw',\n",
       " 'GML': 'raw',\n",
       " 'GPX': 'raw',\n",
       " 'GPSTrackMaker': 'raw',\n",
       " 'Idrisi': 'r',\n",
       " 'MapInfo File': 'raw',\n",
       " 'DGN': 'raw',\n",
       " 'PCIDSK': 'r',\n",
       " 'S57': 'r',\n",
       " 'SEGY': 'r',\n",
       " 'SUA': 'r',\n",
       " 'TopoJSON': 'r'}"
      ]
     },
     "execution_count": 21,
     "metadata": {},
     "output_type": "execute_result"
    }
   ],
   "source": [
    "fiona.supported_drivers"
   ]
  },
  {
   "cell_type": "markdown",
   "metadata": {},
   "source": [
    "#### Now delete the previous version of the export, if it exists ..."
   ]
  },
  {
   "cell_type": "code",
   "execution_count": 22,
   "metadata": {},
   "outputs": [],
   "source": [
    "# run this first to delete old export\n",
    "os.remove(r'G:\\SCHOOL\\KENTUCKY\\MAP698\\the-spoken-world\\data\\places-newtable.geojson')"
   ]
  },
  {
   "cell_type": "markdown",
   "metadata": {},
   "source": [
    "#### ... and export a fresh new copy!"
   ]
  },
  {
   "cell_type": "code",
   "execution_count": 23,
   "metadata": {},
   "outputs": [],
   "source": [
    "df_less_antarctica.to_file(r'G:\\SCHOOL\\KENTUCKY\\MAP698\\the-spoken-world\\data\\places-newtable.geojson', encoding='utf-8', driver='GeoJSON')"
   ]
  },
  {
   "cell_type": "code",
   "execution_count": null,
   "metadata": {},
   "outputs": [],
   "source": []
  }
 ],
 "metadata": {
  "kernelspec": {
   "display_name": "Python 3",
   "language": "python",
   "name": "python3"
  },
  "language_info": {
   "codemirror_mode": {
    "name": "ipython",
    "version": 3
   },
   "file_extension": ".py",
   "mimetype": "text/x-python",
   "name": "python",
   "nbconvert_exporter": "python",
   "pygments_lexer": "ipython3",
   "version": "3.6.7"
  }
 },
 "nbformat": 4,
 "nbformat_minor": 2
}
